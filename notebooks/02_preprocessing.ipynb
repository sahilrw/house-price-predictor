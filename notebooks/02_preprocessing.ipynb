{
 "cells": [
  {
   "cell_type": "code",
   "execution_count": null,
   "id": "ba7efbab",
   "metadata": {},
   "outputs": [],
   "source": [
    "import pandas as pd"
   ]
  },
  {
   "cell_type": "markdown",
   "id": "1631e4d3",
   "metadata": {},
   "source": [
    "Load Cleaned Data"
   ]
  },
  {
   "cell_type": "code",
   "execution_count": 31,
   "id": "751f9f7e",
   "metadata": {},
   "outputs": [
    {
     "name": "stdout",
     "output_type": "stream",
     "text": [
      "   order        pid  ms_subclass ms_zoning  lot_frontage  lot_area street  \\\n",
      "1      2  526350040           20        RH          80.0     11622   Pave   \n",
      "2      3  526351010           20        RL          81.0     14267   Pave   \n",
      "4      5  527105010           60        RL          74.0     13830   Pave   \n",
      "5      6  527105030           60        RL          78.0      9978   Pave   \n",
      "6      7  527127150          120        RL          41.0      4920   Pave   \n",
      "\n",
      "  alley lot_shape land_contour  ... pool_qc  fence misc_feature misc_val  \\\n",
      "1  None       Reg          Lvl  ...    None  MnPrv         None        0   \n",
      "2  None       IR1          Lvl  ...    None   None         Gar2    12500   \n",
      "4  None       IR1          Lvl  ...    None  MnPrv         None        0   \n",
      "5  None       IR1          Lvl  ...    None   None         None        0   \n",
      "6  None       Reg          Lvl  ...    None   None         None        0   \n",
      "\n",
      "  mo_sold yr_sold sale_type sale_condition  saleprice  log_saleprice  \n",
      "1       6    2010       WD          Normal     105000      11.561725  \n",
      "2       6    2010       WD          Normal     172000      12.055256  \n",
      "4       3    2010       WD          Normal     189900      12.154258  \n",
      "5       6    2010       WD          Normal     195500      12.183321  \n",
      "6       4    2010       WD          Normal     213500      12.271397  \n",
      "\n",
      "[5 rows x 83 columns]\n"
     ]
    }
   ],
   "source": [
    "# Load cleaned dataset\n",
    "df_clean = pd.read_parquet('../data/processed/ames_clean.parquet', engine='pyarrow')\n",
    "\n",
    "# Check the first few rows\n",
    "print(df_clean.head())"
   ]
  },
  {
   "cell_type": "code",
   "execution_count": 32,
   "id": "3790313e",
   "metadata": {},
   "outputs": [
    {
     "name": "stdout",
     "output_type": "stream",
     "text": [
      "Missing values in columns:\n",
      "Series([], dtype: int64)\n"
     ]
    }
   ],
   "source": [
    "# Check for missing values after initial cleaning\n",
    "missing_values = df_clean.isnull().sum()\n",
    "missing_values = missing_values[missing_values > 0]\n",
    "print(f\"Missing values in columns:\\n{missing_values}\")"
   ]
  },
  {
   "cell_type": "code",
   "execution_count": 33,
   "id": "78d991d5",
   "metadata": {},
   "outputs": [
    {
     "data": {
      "text/plain": [
       "order                int64\n",
       "pid                  int64\n",
       "ms_subclass          int64\n",
       "ms_zoning         category\n",
       "lot_frontage       float64\n",
       "                    ...   \n",
       "yr_sold              int64\n",
       "sale_type         category\n",
       "sale_condition    category\n",
       "saleprice            int64\n",
       "log_saleprice      float64\n",
       "Length: 83, dtype: object"
      ]
     },
     "execution_count": 33,
     "metadata": {},
     "output_type": "execute_result"
    }
   ],
   "source": [
    "df_clean.dtypes"
   ]
  },
  {
   "cell_type": "code",
   "execution_count": 34,
   "id": "3b26210a",
   "metadata": {},
   "outputs": [
    {
     "data": {
      "text/plain": [
       "count    2483.000000\n",
       "mean       11.980872\n",
       "std         0.359110\n",
       "min         9.456419\n",
       "25%        11.766800\n",
       "50%        11.957618\n",
       "75%        12.206078\n",
       "max        13.229570\n",
       "Name: log_saleprice, dtype: float64"
      ]
     },
     "execution_count": 34,
     "metadata": {},
     "output_type": "execute_result"
    }
   ],
   "source": [
    "df_clean['log_saleprice'].describe()"
   ]
  },
  {
   "cell_type": "markdown",
   "id": "68f7ed42",
   "metadata": {},
   "source": [
    "Drop Irrelavent/Leaky Columns"
   ]
  },
  {
   "cell_type": "code",
   "execution_count": 35,
   "id": "7d553aa6",
   "metadata": {},
   "outputs": [
    {
     "data": {
      "text/plain": [
       "Index(['order', 'pid', 'ms_subclass', 'ms_zoning', 'lot_frontage', 'lot_area',\n",
       "       'street', 'alley', 'lot_shape', 'land_contour', 'utilities',\n",
       "       'lot_config', 'land_slope', 'neighborhood', 'condition_1',\n",
       "       'condition_2', 'bldg_type', 'house_style', 'overall_qual',\n",
       "       'overall_cond', 'year_built', 'year_remod/add', 'roof_style',\n",
       "       'roof_matl', 'exterior_1st', 'exterior_2nd', 'mas_vnr_type',\n",
       "       'mas_vnr_area', 'exter_qual', 'exter_cond', 'foundation', 'bsmt_qual',\n",
       "       'bsmt_cond', 'bsmt_exposure', 'bsmtfin_type_1', 'bsmtfin_sf_1',\n",
       "       'bsmtfin_type_2', 'bsmtfin_sf_2', 'bsmt_unf_sf', 'total_bsmt_sf',\n",
       "       'heating', 'heating_qc', 'central_air', 'electrical', '1st_flr_sf',\n",
       "       '2nd_flr_sf', 'low_qual_fin_sf', 'gr_liv_area', 'bsmt_full_bath',\n",
       "       'bsmt_half_bath', 'full_bath', 'half_bath', 'bedroom_abvgr',\n",
       "       'kitchen_abvgr', 'kitchen_qual', 'totrms_abvgrd', 'functional',\n",
       "       'fireplaces', 'fireplace_qu', 'garage_type', 'garage_yr_blt',\n",
       "       'garage_finish', 'garage_cars', 'garage_area', 'garage_qual',\n",
       "       'garage_cond', 'paved_drive', 'wood_deck_sf', 'open_porch_sf',\n",
       "       'enclosed_porch', '3ssn_porch', 'screen_porch', 'pool_area', 'pool_qc',\n",
       "       'fence', 'misc_feature', 'misc_val', 'mo_sold', 'yr_sold', 'sale_type',\n",
       "       'sale_condition', 'saleprice', 'log_saleprice'],\n",
       "      dtype='object')"
      ]
     },
     "execution_count": 35,
     "metadata": {},
     "output_type": "execute_result"
    }
   ],
   "source": [
    "df_clean.columns"
   ]
  },
  {
   "cell_type": "code",
   "execution_count": 36,
   "id": "55665e6a",
   "metadata": {},
   "outputs": [],
   "source": [
    "# one_hot encoding\n",
    "df_clean = pd.get_dummies(df_clean, columns=['neighborhood'], drop_first=True)"
   ]
  },
  {
   "cell_type": "code",
   "execution_count": 37,
   "id": "ec6405a6",
   "metadata": {},
   "outputs": [],
   "source": [
    "# convert pool data to binary\n",
    "df_clean['has_pool'] = (df_clean['pool_area'] > 0).astype(int)"
   ]
  },
  {
   "cell_type": "code",
   "execution_count": 38,
   "id": "ba934c41",
   "metadata": {},
   "outputs": [],
   "source": [
    "# one_hot encoding\n",
    "df_clean['all_conditions'] = df_clean[['condition_1', 'condition_2']].apply(\n",
    "    lambda x: '_'.join(sorted(set(x))), axis=1\n",
    ")\n",
    "\n",
    "df_clean['all_exteriors'] = df_clean[['exterior_1st', 'exterior_2nd']].apply(\n",
    "    lambda x: '_'.join(sorted(set(x))), axis=1\n",
    ")\n",
    "\n",
    "df_clean = pd.get_dummies(df_clean, columns=['all_conditions', 'all_exteriors'], drop_first=True)"
   ]
  },
  {
   "cell_type": "code",
   "execution_count": 39,
   "id": "57e7f29a",
   "metadata": {},
   "outputs": [],
   "source": [
    "cols_to_drop = [\n",
    "    'order', 'pid', 'misc_val', 'misc_feature', 'alley', '3ssn_porch',\n",
    "    'pool_qc', 'fence', 'utilities', 'mo_sold', 'yr_sold', 'garage_yr_blt',\n",
    "    'condition_1', 'condition_2', 'exterior_1st', 'exterior_2nd',\n",
    "    'pool_area',\n",
    "]\n",
    "\n",
    "y = df_clean['saleprice']\n",
    "df_clean = df_clean.drop(columns=cols_to_drop + ['saleprice'])"
   ]
  },
  {
   "cell_type": "code",
   "execution_count": 41,
   "id": "26d89577",
   "metadata": {},
   "outputs": [
    {
     "data": {
      "text/plain": [
       "Index(['ms_subclass', 'ms_zoning', 'lot_frontage', 'lot_area', 'street',\n",
       "       'lot_shape', 'land_contour', 'lot_config', 'land_slope', 'bldg_type',\n",
       "       ...\n",
       "       'all_exteriors_Stucco_Wd Sdng', 'all_exteriors_Stucco_Wd Shng',\n",
       "       'all_exteriors_Stucco_WdShing', 'all_exteriors_VinylSd',\n",
       "       'all_exteriors_VinylSd_Wd Sdng', 'all_exteriors_VinylSd_Wd Shng',\n",
       "       'all_exteriors_Wd Sdng', 'all_exteriors_Wd Sdng_Wd Shng',\n",
       "       'all_exteriors_Wd Sdng_WdShing', 'all_exteriors_Wd Shng_WdShing'],\n",
       "      dtype='object', length=174)"
      ]
     },
     "execution_count": 41,
     "metadata": {},
     "output_type": "execute_result"
    }
   ],
   "source": [
    "df_clean.columns"
   ]
  },
  {
   "cell_type": "code",
   "execution_count": 50,
   "id": "f65d0840",
   "metadata": {},
   "outputs": [],
   "source": [
    "df_clean.to_parquet('../data/processed/ames_processed.parquet', index=False)"
   ]
  }
 ],
 "metadata": {
  "kernelspec": {
   "display_name": "Python 3",
   "language": "python",
   "name": "python3"
  },
  "language_info": {
   "codemirror_mode": {
    "name": "ipython",
    "version": 3
   },
   "file_extension": ".py",
   "mimetype": "text/x-python",
   "name": "python",
   "nbconvert_exporter": "python",
   "pygments_lexer": "ipython3",
   "version": "3.12.10"
  }
 },
 "nbformat": 4,
 "nbformat_minor": 5
}
